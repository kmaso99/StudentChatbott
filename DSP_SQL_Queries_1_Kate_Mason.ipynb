{
  "nbformat": 4,
  "nbformat_minor": 0,
  "metadata": {
    "colab": {
      "provenance": [],
      "include_colab_link": true
    },
    "kernelspec": {
      "name": "python3",
      "display_name": "Python 3"
    },
    "language_info": {
      "name": "python"
    }
  },
  "cells": [
    {
      "cell_type": "markdown",
      "metadata": {
        "id": "view-in-github",
        "colab_type": "text"
      },
      "source": [
        "<a href=\"https://colab.research.google.com/github/kmaso99/StudentChatbott/blob/main/DSP_SQL_Queries_1_Kate_Mason.ipynb\" target=\"_parent\"><img src=\"https://colab.research.google.com/assets/colab-badge.svg\" alt=\"Open In Colab\"/></a>"
      ]
    },
    {
      "cell_type": "markdown",
      "source": [
        "\n",
        "\n",
        "<h1 align=\"center\">\n",
        "    NSDC Data Science Projects\n",
        "</h1>\n",
        "\n",
        "<h2 align=\"center\">\n",
        "    Project: Practicing Writing SQL Queries - #1\n",
        "</h2>\n",
        "\n",
        "<h3 align=\"center\">\n",
        "    Name: Kate Mason\n",
        "</h3>\n"
      ],
      "metadata": {
        "id": "tt70feOIfcQ0"
      }
    },
    {
      "cell_type": "markdown",
      "source": [
        "### **Please read before you begin your project**\n",
        "\n",
        "**Instructions: Google Colab Notebooks:**\n",
        "\n",
        "Google Colab is a free cloud service. It is a hosted Jupyter notebook service that requires no setup to use, while providing free access to computing resources. We will be using Google Colab for this project.\n",
        "\n",
        "In order to work within the Google Colab Notebook, **please start by clicking on \"File\" and then \"Save a copy in Drive.\"** This will save a copy of the notebook in your personal Google Drive.\n",
        "\n",
        "Please rename the file to \"DSP - SQL Queries #1 - Your Full Name.\" Once this project is completed, you will be prompted to share your file with the National Student Data Corps (NSDC) Project Leaders.\n",
        "\n",
        "You can now start working on the project. :)\n",
        "\n",
        "**Project Description:**\n",
        "\n",
        "To work with the New York City Airbnb dataset in this project, you'll need to create and connect to an SQLite database as seen in the steps within this notebook.\n",
        "\n",
        "**Key Features**\n",
        "\n",
        "- Practical SQL exercises with step-by-step instructions.\n",
        "- Real-world datasets for hands-on experience.\n",
        "- Comprehensive explanations of SQL queries and concepts.\n",
        "- Interactive coding examples and challenges.\n",
        "\n",
        "**Dataset**\n",
        "- You can find the New York City Airbnb dataset on Kaggle: [New York City Airbnb Dataset](https://www.kaggle.com/datasets/dgomonov/new-york-city-airbnb-open-data)\n",
        "- Download the dataset from the provided link and save it as 'AB_NYC_2019.csv' on your computer.\n",
        "- On Google Colab, click on the \"Upload\" button and select the 'AB_NYC_2019.csv' file from your local computer."
      ],
      "metadata": {
        "id": "35fgH_hXgAUU"
      }
    },
    {
      "cell_type": "markdown",
      "source": [
        "## Introduction\n",
        "This SQL project is designed for beginners who want to practice writing SQL queries using a real-world dataset. In this project, we will work with the New York City Airbnb dataset. The main goal is to help you become familiar with SQL syntax and basic data analysis tasks. Make sure to complete the code where there is a 'TODO' sign. Hints are provided along the way.\n",
        "\n",
        "## Table of Contents\n",
        "1. [Libraries and Database Setup](#database-setup)\n",
        "2. [Loading the Dataset](#loading-dataset)\n",
        "3. [SQL Queries](#sql-queries)\n",
        "4. [Closing Connection](#closing-connection)\n",
        "5. [Summary of Basic SQL Commands](#summary-commands)\n",
        "\n",
        "# Section 1: Libraries and Database Setup <a name=\"database-setup\"></a>\n",
        "\n",
        "### Task 1.1: Import Libraries\n",
        "Let's start by importing the necessary libraries.\n"
      ],
      "metadata": {
        "id": "I4xHzjkqigQk"
      }
    },
    {
      "cell_type": "code",
      "source": [
        "import pandas as pd\n",
        "import numpy as np\n",
        "import sqlite3"
      ],
      "metadata": {
        "id": "NnR6oXHNG6Ff"
      },
      "execution_count": 24,
      "outputs": []
    },
    {
      "cell_type": "markdown",
      "source": [
        "### Task 1.2: Connect to the Database\n",
        "\n",
        "Next, establish a connection to the SQLite database named 'airbnb.db'.\n",
        "Use the sqlite3 library to create a connection object and store it in a variable called 'conn'.\n"
      ],
      "metadata": {
        "id": "qSERoLykixcz"
      }
    },
    {
      "cell_type": "code",
      "source": [
        "# Completed\n",
        "# Connect to the SQLite database\n",
        "conn = sqlite3.connect('airbnb.db')"
      ],
      "metadata": {
        "id": "8G9tDLd2iyq7"
      },
      "execution_count": 25,
      "outputs": []
    },
    {
      "cell_type": "markdown",
      "source": [
        "# Section 2: Loading the Dataset <a name=\"loading-dataset\"></a>"
      ],
      "metadata": {
        "id": "gCE_OEk5BrF2"
      }
    },
    {
      "cell_type": "markdown",
      "source": [
        "### Task 2.1: Load the Dataset\n",
        "- You will work with the 'listings' table from the New York City Airbnb dataset.\n",
        "- Load the dataset from the CSV file 'AB_NYC_2019.csv' into a DataFrame named 'df'.\n",
        "- Then, import the DataFrame into the 'listings' table in the database using the to_sql() method.\n",
        "\n",
        "Hint: Use the read_csv() method from pandas to read the CSV file.\n"
      ],
      "metadata": {
        "id": "_bXjXLHli0aE"
      }
    },
    {
      "cell_type": "code",
      "source": [
        "# TODO: Load the dataset into the SQLite database\n",
        "data_path = \"AB_NYC_2019.csv\"\n",
        "# Completed\n",
        "df = pd.read_csv(data_path)\n",
        "\n",
        "# Completed\n",
        "df.to_sql('listings', conn, if_exists='replace', index=False)\n",
        "# Completed\n",
        "df.to_sql('listings', conn, if_exists='replace', index=False)"
      ],
      "metadata": {
        "id": "blwNI_PEi5FT",
        "outputId": "db5236bf-1ecc-4d04-dfeb-73e1fd2a66c9",
        "colab": {
          "base_uri": "https://localhost:8080/"
        }
      },
      "execution_count": 26,
      "outputs": [
        {
          "output_type": "execute_result",
          "data": {
            "text/plain": [
              "48895"
            ]
          },
          "metadata": {},
          "execution_count": 26
        }
      ]
    },
    {
      "cell_type": "markdown",
      "source": [
        "# Section 3: SQL Queries <a name=\"sql-queries\"></a>\n",
        "\n",
        "Query the database: Write SQL queries to analyze the data in the SQLite database. You can use the sqlite3 library to execute the queries and fetch the results."
      ],
      "metadata": {
        "id": "1j3xgaK4Ck3S"
      }
    },
    {
      "cell_type": "markdown",
      "source": [
        "### Task 3.1: Retrieve all Columns\n",
        "- Write an SQL query to retrieve all columns from the 'listings' table.\n",
        "- Execute the query and display the first 10 rows of the result\n",
        "\n",
        "Hint: Use SELECTION to select entries from a specified table."
      ],
      "metadata": {
        "id": "eKaLdB8Fi7Bh"
      }
    },
    {
      "cell_type": "code",
      "source": [
        "cursor = conn.cursor()\n",
        "\n",
        "# TODO: Execute an SQL query using the cursor.execute() method to retrieve all columns from listings (don't forget the trailing ';' to finish a query)\n",
        "cursor.execute(\"SELECT * FROM listings;\")\n",
        "\n",
        "# Completed\n",
        "# Fetch all the results using fetchall()\n",
        "results = cursor.fetchall()"
      ],
      "metadata": {
        "id": "gqe3KmtUCr9V"
      },
      "execution_count": 27,
      "outputs": []
    },
    {
      "cell_type": "code",
      "source": [
        "# TODO: Display the first 10 rows\n",
        "for i, row in enumerate(results[:10]):\n",
        "    print(row)"
      ],
      "metadata": {
        "id": "9ZqFoSV6C5cH",
        "colab": {
          "base_uri": "https://localhost:8080/"
        },
        "outputId": "e3306e96-7ef0-4d37-bb5b-fb247948e869"
      },
      "execution_count": 28,
      "outputs": [
        {
          "output_type": "stream",
          "name": "stdout",
          "text": [
            "(2539, 'Clean & quiet apt home by the park', 2787, 'John', 'Brooklyn', 'Kensington', 40.64749, -73.97237, 'Private room', 149, 1, 9, '2018-10-19', 0.21, 6, 365)\n",
            "(2595, 'Skylit Midtown Castle', 2845, 'Jennifer', 'Manhattan', 'Midtown', 40.75362, -73.98377, 'Entire home/apt', 225, 1, 45, '2019-05-21', 0.38, 2, 355)\n",
            "(3647, 'THE VILLAGE OF HARLEM....NEW YORK !', 4632, 'Elisabeth', 'Manhattan', 'Harlem', 40.80902, -73.9419, 'Private room', 150, 3, 0, None, None, 1, 365)\n",
            "(3831, 'Cozy Entire Floor of Brownstone', 4869, 'LisaRoxanne', 'Brooklyn', 'Clinton Hill', 40.68514, -73.95976, 'Entire home/apt', 89, 1, 270, '2019-07-05', 4.64, 1, 194)\n",
            "(5022, 'Entire Apt: Spacious Studio/Loft by central park', 7192, 'Laura', 'Manhattan', 'East Harlem', 40.79851, -73.94399, 'Entire home/apt', 80, 10, 9, '2018-11-19', 0.1, 1, 0)\n",
            "(5099, 'Large Cozy 1 BR Apartment In Midtown East', 7322, 'Chris', 'Manhattan', 'Murray Hill', 40.74767, -73.975, 'Entire home/apt', 200, 3, 74, '2019-06-22', 0.59, 1, 129)\n",
            "(5121, 'BlissArtsSpace!', 7356, 'Garon', 'Brooklyn', 'Bedford-Stuyvesant', 40.68688, -73.95596, 'Private room', 60, 45, 49, '2017-10-05', 0.4, 1, 0)\n",
            "(5178, \"Large Furnished Room Near B'way \", 8967, 'Shunichi', 'Manhattan', \"Hell's Kitchen\", 40.76489, -73.98493, 'Private room', 79, 2, 430, '2019-06-24', 3.47, 1, 220)\n",
            "(5203, 'Cozy Clean Guest Room - Family Apt', 7490, 'MaryEllen', 'Manhattan', 'Upper West Side', 40.80178, -73.96723, 'Private room', 79, 2, 118, '2017-07-21', 0.99, 1, 0)\n",
            "(5238, 'Cute & Cozy Lower East Side 1 bdrm', 7549, 'Ben', 'Manhattan', 'Chinatown', 40.71344, -73.99037, 'Entire home/apt', 150, 1, 160, '2019-06-09', 1.33, 4, 188)\n"
          ]
        }
      ]
    },
    {
      "cell_type": "markdown",
      "source": [
        "### Task 3.2: Count Total Records\n",
        "- Write an SQL query to count the total number of records in the 'listings' table.\n",
        "- Execute the query and display the count.\n",
        "\n",
        "Hint: This query uses the COUNT(*) function to count the total number of records in the \"listings\" table."
      ],
      "metadata": {
        "id": "0O4Nfb9yC61D"
      }
    },
    {
      "cell_type": "code",
      "source": [
        "# TODO: Execute the SQL query to count the number of records (don't forget the trailing ';' to finish a query)\n",
        "cursor.execute(\"SELECT COUNT(*) FROM listings;\")\n",
        "\n",
        "# Completed\n",
        "count = cursor.fetchone()[0]\n",
        "# Print the count\n",
        "print(\"Total number of records in the 'listings' table:\", count)"
      ],
      "metadata": {
        "id": "4fJa4Bt6C7Nw",
        "colab": {
          "base_uri": "https://localhost:8080/"
        },
        "outputId": "a743004b-13b0-420c-ce57-41d7ddaaa5ad"
      },
      "execution_count": 29,
      "outputs": [
        {
          "output_type": "stream",
          "name": "stdout",
          "text": [
            "Total number of records in the 'listings' table: 48895\n"
          ]
        }
      ]
    },
    {
      "cell_type": "markdown",
      "source": [
        "### Task 3.3: Top 10 Neighborhoods by Average Price\n",
        "- Write an SQL query to find the top 10 neighborhoods with the highest average listing price.\n",
        "- Execute the query and display the results.\n",
        "\n",
        "Hint: The result includes the neighborhood group, neighborhood name, and the average price. Make sure to use GROUP BY and ORDER BY, respectively.\n"
      ],
      "metadata": {
        "id": "uULLKoO0DEou"
      }
    },
    {
      "cell_type": "code",
      "source": [
        "# TODO: Execute the SQL query to find the top 10 neighborhoods with the highest average listing price (finish the two missing sql commands)\n",
        "cursor.execute(\"\"\"\n",
        "    SELECT neighbourhood_group, neighbourhood, AVG(price) AS avg_price\n",
        "    FROM listings\n",
        "    GROUP BY neighbourhood_group, neighbourhood\n",
        "    ORDER BY avg_price DESC\n",
        "    LIMIT 10;\n",
        "\"\"\")\n",
        "\n",
        "# Completed\n",
        "results = cursor.fetchall()"
      ],
      "metadata": {
        "id": "EDnyQuz1DDin"
      },
      "execution_count": 30,
      "outputs": []
    },
    {
      "cell_type": "code",
      "source": [
        "# Display the results\n",
        "for row in results:\n",
        "    print(row)"
      ],
      "metadata": {
        "id": "Ci48EiFwDJBB",
        "colab": {
          "base_uri": "https://localhost:8080/"
        },
        "outputId": "9a804c9a-c1ee-4de8-8d1b-647262a20d73"
      },
      "execution_count": 31,
      "outputs": [
        {
          "output_type": "stream",
          "name": "stdout",
          "text": [
            "('Staten Island', 'Fort Wadsworth', 800.0)\n",
            "('Staten Island', 'Woodrow', 700.0)\n",
            "('Manhattan', 'Tribeca', 490.638418079096)\n",
            "('Brooklyn', 'Sea Gate', 487.85714285714283)\n",
            "('Bronx', 'Riverdale', 442.09090909090907)\n",
            "('Staten Island', \"Prince's Bay\", 409.5)\n",
            "('Manhattan', 'Battery Park City', 367.5571428571429)\n",
            "('Manhattan', 'Flatiron District', 341.925)\n",
            "('Staten Island', 'Randall Manor', 336.0)\n",
            "('Manhattan', 'NoHo', 295.71794871794873)\n"
          ]
        }
      ]
    },
    {
      "cell_type": "markdown",
      "source": [
        "### Task 3.4: Number of Listings by Room Type\n",
        "- Write an SQL query to determine the number of listings available for each room type.\n",
        "- Execute the query and display the results.\n",
        "\n",
        "Hint: The COUNT(*) function is used to count the number of records for each room type, and the result is grouped by the room type."
      ],
      "metadata": {
        "id": "yPvuIfq7DMhj"
      }
    },
    {
      "cell_type": "code",
      "source": [
        "# TODO: Execute the SQL query to determine the number of listings available for each room type (finish the one missing sql command)\n",
        "cursor.execute(\"\"\"\n",
        "    SELECT room_type, COUNT(*) AS num_listings\n",
        "    FROM listings\n",
        "    GROUP BY room_type;\n",
        "\"\"\")\n",
        "\n",
        "# Completed\n",
        "results = cursor.fetchall()"
      ],
      "metadata": {
        "id": "U1r32q1rDOil"
      },
      "execution_count": 32,
      "outputs": []
    },
    {
      "cell_type": "code",
      "source": [
        "# Display the results\n",
        "for row in results:\n",
        "    print(row)"
      ],
      "metadata": {
        "id": "s93h67wkDR6r",
        "colab": {
          "base_uri": "https://localhost:8080/"
        },
        "outputId": "e3a02ac7-083a-4380-b2ca-6b7400901b7a"
      },
      "execution_count": 33,
      "outputs": [
        {
          "output_type": "stream",
          "name": "stdout",
          "text": [
            "('Entire home/apt', 25409)\n",
            "('Private room', 22326)\n",
            "('Shared room', 1160)\n"
          ]
        }
      ]
    },
    {
      "cell_type": "markdown",
      "source": [
        "### Task 3.5: Average Number of Reviews per Listing\n",
        "- Write an SQL query to calculate the average number of reviews per listing.\n",
        "- Execute the query and display the average.\n",
        "\n",
        "Hint: Use AVG() to find the average of a column and save it via an alias using AS. Make sure to specify the table using FROM."
      ],
      "metadata": {
        "id": "5zAOsyKXDV_j"
      }
    },
    {
      "cell_type": "code",
      "source": [
        "# TODO: Execute the SQL query to calculate the average number of reviews per listing (finish both the missing sql commands)\n",
        "cursor.execute(\"\"\"\n",
        "    SELECT AVG(number_of_reviews) AS avg_reviews\n",
        "    FROM listings;\n",
        "\"\"\")\n",
        "\n",
        "# Completed\n",
        "result = cursor.fetchone()\n",
        "# Print the average number of reviews per listing\n",
        "print(\"Average number of reviews per listing:\", result[0])"
      ],
      "metadata": {
        "id": "lbOe62s4Dgt0",
        "colab": {
          "base_uri": "https://localhost:8080/"
        },
        "outputId": "b2999f69-027e-4a7f-a370-384727980ab0"
      },
      "execution_count": 34,
      "outputs": [
        {
          "output_type": "stream",
          "name": "stdout",
          "text": [
            "Average number of reviews per listing: 23.274465691788528\n"
          ]
        }
      ]
    },
    {
      "cell_type": "markdown",
      "source": [
        "### Task 3.6: Listings with Minimum Number of Reviews\n",
        "- Write an SQL query to find the listings with the minimum number of reviews.\n",
        "- Execute the query and display the results (limit to 15 rows).\n",
        "\n",
        "Hint: The subquery (SELECT MIN(number_of_reviews) FROM listings) retrieves the minimum number of reviews from the \"listings\" table, and the main query filters the rows where number_of_reviews matches the minimum value. Make sure to use WHERE clause."
      ],
      "metadata": {
        "id": "XEQ1ZI6YDj1e"
      }
    },
    {
      "cell_type": "code",
      "source": [
        "# TODO: Execute the SQL query to find the listings with the minimum number of reviews (finish the third missing sql command)\n",
        "cursor.execute(\"\"\"\n",
        "    SELECT id\n",
        "    FROM listings\n",
        "    WHERE number_of_reviews = (SELECT MIN(number_of_reviews) FROM listings)\n",
        "    LIMIT 15;\n",
        "\"\"\")\n",
        "\n",
        "# Completed\n",
        "results = cursor.fetchall()"
      ],
      "metadata": {
        "id": "z_Qq7kexDl38"
      },
      "execution_count": 35,
      "outputs": []
    },
    {
      "cell_type": "code",
      "source": [
        "# Display the results (limit to 15 rows)\n",
        "for row in results:\n",
        "    print(row)"
      ],
      "metadata": {
        "id": "0rlqZDJCDoWB",
        "colab": {
          "base_uri": "https://localhost:8080/"
        },
        "outputId": "984d5910-d9bb-40f1-c8c0-1d1e2f5590a2"
      },
      "execution_count": 36,
      "outputs": [
        {
          "output_type": "stream",
          "name": "stdout",
          "text": [
            "(3647,)\n",
            "(7750,)\n",
            "(8700,)\n",
            "(11452,)\n",
            "(11943,)\n",
            "(51438,)\n",
            "(54466,)\n",
            "(63588,)\n",
            "(63913,)\n",
            "(64015,)\n",
            "(65556,)\n",
            "(89427,)\n",
            "(94209,)\n",
            "(118680,)\n",
            "(145188,)\n"
          ]
        }
      ]
    },
    {
      "cell_type": "markdown",
      "source": [
        "### Task 3.7: Filter Listings by Neighborhood and Maximum Price\n",
        "- Write an SQL query to filter the listings in the 'Chelsea' neighborhood with a maximum price of $200.\n",
        "- Execute the query and display the results.\n",
        "\n",
        "Hint: The WHERE clause is used to specify the filtering conditions."
      ],
      "metadata": {
        "id": "SXPgoKZcDp3h"
      }
    },
    {
      "cell_type": "code",
      "source": [
        "# TODO: Execute the SQL query to filter the listings\n",
        "cursor.execute(\"\"\"\n",
        "    SELECT id, neighbourhood, price, room_type\n",
        "    FROM listings\n",
        "    WHERE neighbourhood_group = 'Chelsea' AND price <= 200;\n",
        "    \"\"\")\n",
        "\n",
        "# Completed\n",
        "results = cursor.fetchall()"
      ],
      "metadata": {
        "id": "l9Ynu9zCDtSE"
      },
      "execution_count": 37,
      "outputs": []
    },
    {
      "cell_type": "code",
      "source": [
        "# Display the results\n",
        "for row in results:\n",
        "    print(row)"
      ],
      "metadata": {
        "id": "o6llsbDYDvOC"
      },
      "execution_count": 38,
      "outputs": []
    },
    {
      "cell_type": "markdown",
      "source": [
        "# Section 4: Closing the Database Connection <a name=\"closing-connection\"></a>"
      ],
      "metadata": {
        "id": "CyaxVtAuDyDd"
      }
    },
    {
      "cell_type": "markdown",
      "source": [
        "### Task 4.1: Close the Cursor and Database Connection\n",
        "- It's good practice to close the cursor and the database connection when you're done working with the database to free up system resources and maintain proper connection management.\n"
      ],
      "metadata": {
        "id": "nFKyd0DbD4Ns"
      }
    },
    {
      "cell_type": "code",
      "source": [
        "# Completed\n",
        "# Make sure to include these lines of code at the end of your script to properly close the cursor and database connection.\n",
        "cursor.close()\n",
        "conn.close()"
      ],
      "metadata": {
        "id": "_z_H6ZsmD2GX"
      },
      "execution_count": 39,
      "outputs": []
    },
    {
      "cell_type": "markdown",
      "source": [
        "# Section 5: Summary of Basic SQL Commands <a name=\"summary-commands\"></a>"
      ],
      "metadata": {
        "id": "P5b9IpSZVtlA"
      }
    },
    {
      "cell_type": "markdown",
      "source": [
        "In this project, you have practiced various SQL commands and tasks. Below is a summary of the basic SQL commands used:\n",
        "\n",
        "**Task 1.2: Connect to the Database**\n",
        "- Established a connection to the SQLite database.\n",
        "\n",
        "**Task 2.1: Load the Dataset**\n",
        "- Loaded the dataset into a DataFrame.\n",
        "- Imported the DataFrame into the database.\n",
        "\n",
        "**Task 3.1: Retrieve all Columns**\n",
        "- Executed a SELECT query to retrieve all columns.\n",
        "\n",
        "**Task 3.2: Count Total Records**\n",
        "- Executed a SELECT COUNT(*) query to count the total records.\n",
        "\n",
        "**Task 3.3: Top 10 Neighborhoods by Average Price**\n",
        "- Executed a SELECT query with GROUP BY, ORDER BY, and LIMIT clauses.\n",
        "\n",
        "**Task 3.4: Number of Listings by Room Type**\n",
        "- Executed a SELECT query with COUNT() and GROUP BY.\n",
        "\n",
        "**Task 3.5: Average Number of Reviews per Listing**\n",
        "- Executed a SELECT query with AVG().\n",
        "\n",
        "**Task 3.6: Listings with Minimum Number of Reviews**\n",
        "- Executed a SELECT query with WHERE and a subquery.\n",
        "\n",
        "**Task 3.7: Filter Listings by Neighborhood and Maximum Price**\n",
        "- Executed a SELECT query with WHERE conditions.\n",
        "\n",
        "**Task 4.1: Close the Cursor and Database Connection**\n",
        "- Closed the cursor and the database connection.\n",
        "\n",
        "This summary provides an overview of the basic SQL commands used in this project. You can use this as a reference for future SQL projects and data analysis tasks.\n"
      ],
      "metadata": {
        "id": "e_AmKIOvUHR_"
      }
    },
    {
      "cell_type": "markdown",
      "metadata": {
        "id": "UT8Rpdt4ZPeA"
      },
      "source": [
        "<h3 align = 'center' >\n",
        "Thank you for completing the project!\n",
        "</h3>\n",
        "\n",
        "Please do reach out to us if you have any questions or concerns. We are here to help you learn and grow.\n",
        "\n",
        "Please send your completed Google Colab Notebook to the NSDC HQ Team at nsdc@nebigdatahub.org in order to receive your virtual certificate of completion.\n"
      ]
    }
  ]
}